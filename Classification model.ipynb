{
 "cells": [
  {
   "cell_type": "markdown",
   "id": "4a6e0959-0e60-41c0-8368-c5da93d864e0",
   "metadata": {
    "jp-MarkdownHeadingCollapsed": true
   },
   "source": [
    "# Revising the dataset"
   ]
  },
  {
   "cell_type": "code",
   "execution_count": 1,
   "id": "1c3c8118-9499-4845-96c8-d713642c8144",
   "metadata": {},
   "outputs": [],
   "source": [
    "import numpy as np\n",
    "import pandas as pd "
   ]
  },
  {
   "cell_type": "code",
   "execution_count": 2,
   "id": "5d389afe-e1df-4a5f-b1f0-85783ad4da63",
   "metadata": {},
   "outputs": [
    {
     "data": {
      "text/html": [
       "<div>\n",
       "<style scoped>\n",
       "    .dataframe tbody tr th:only-of-type {\n",
       "        vertical-align: middle;\n",
       "    }\n",
       "\n",
       "    .dataframe tbody tr th {\n",
       "        vertical-align: top;\n",
       "    }\n",
       "\n",
       "    .dataframe thead th {\n",
       "        text-align: right;\n",
       "    }\n",
       "</style>\n",
       "<table border=\"1\" class=\"dataframe\">\n",
       "  <thead>\n",
       "    <tr style=\"text-align: right;\">\n",
       "      <th></th>\n",
       "      <th>temp_c</th>\n",
       "      <th>condition</th>\n",
       "      <th>wind_kph</th>\n",
       "      <th>pressure_mb</th>\n",
       "      <th>humidity</th>\n",
       "      <th>feelslike_c</th>\n",
       "      <th>heatindex_c</th>\n",
       "    </tr>\n",
       "  </thead>\n",
       "  <tbody>\n",
       "    <tr>\n",
       "      <th>0</th>\n",
       "      <td>24.5</td>\n",
       "      <td>Clear</td>\n",
       "      <td>4.7</td>\n",
       "      <td>1004.0</td>\n",
       "      <td>41.0</td>\n",
       "      <td>25.1</td>\n",
       "      <td>25.1</td>\n",
       "    </tr>\n",
       "    <tr>\n",
       "      <th>1</th>\n",
       "      <td>24.2</td>\n",
       "      <td>Clear</td>\n",
       "      <td>4.7</td>\n",
       "      <td>1004.0</td>\n",
       "      <td>41.0</td>\n",
       "      <td>24.9</td>\n",
       "      <td>24.9</td>\n",
       "    </tr>\n",
       "    <tr>\n",
       "      <th>2</th>\n",
       "      <td>23.8</td>\n",
       "      <td>Clear</td>\n",
       "      <td>4.7</td>\n",
       "      <td>1004.0</td>\n",
       "      <td>41.0</td>\n",
       "      <td>24.8</td>\n",
       "      <td>24.8</td>\n",
       "    </tr>\n",
       "    <tr>\n",
       "      <th>3</th>\n",
       "      <td>23.5</td>\n",
       "      <td>Clear</td>\n",
       "      <td>4.7</td>\n",
       "      <td>1004.0</td>\n",
       "      <td>42.0</td>\n",
       "      <td>24.6</td>\n",
       "      <td>24.6</td>\n",
       "    </tr>\n",
       "    <tr>\n",
       "      <th>4</th>\n",
       "      <td>23.2</td>\n",
       "      <td>Clear</td>\n",
       "      <td>4.3</td>\n",
       "      <td>1004.0</td>\n",
       "      <td>43.0</td>\n",
       "      <td>24.6</td>\n",
       "      <td>24.6</td>\n",
       "    </tr>\n",
       "  </tbody>\n",
       "</table>\n",
       "</div>"
      ],
      "text/plain": [
       "   temp_c condition  wind_kph  pressure_mb  humidity  feelslike_c  heatindex_c\n",
       "0    24.5     Clear       4.7       1004.0      41.0         25.1         25.1\n",
       "1    24.2     Clear       4.7       1004.0      41.0         24.9         24.9\n",
       "2    23.8     Clear       4.7       1004.0      41.0         24.8         24.8\n",
       "3    23.5     Clear       4.7       1004.0      42.0         24.6         24.6\n",
       "4    23.2     Clear       4.3       1004.0      43.0         24.6         24.6"
      ]
     },
     "execution_count": 2,
     "metadata": {},
     "output_type": "execute_result"
    }
   ],
   "source": [
    "dataset = pd.read_csv(r'dataset.csv')\n",
    "dataset.head()"
   ]
  },
  {
   "cell_type": "code",
   "execution_count": 3,
   "id": "b5325480-9b7e-4dcb-9bd8-6a1e91f0fb50",
   "metadata": {},
   "outputs": [
    {
     "data": {
      "text/plain": [
       "array(['Clear', 'Sunny', 'Partly cloudy', 'Patchy rain possible',\n",
       "       'Thundery outbreaks possible', 'Patchy light rain with thunder',\n",
       "       'Light rain shower', 'Moderate rain',\n",
       "       'Moderate or heavy rain shower', 'Light rain', 'Light drizzle',\n",
       "       'Cloudy', 'Overcast', 'Mist', 'Fog'], dtype=object)"
      ]
     },
     "execution_count": 3,
     "metadata": {},
     "output_type": "execute_result"
    }
   ],
   "source": [
    "dataset['condition'].unique()"
   ]
  },
  {
   "cell_type": "code",
   "execution_count": 4,
   "id": "5022d184-9b02-4329-9328-006d78470b7f",
   "metadata": {},
   "outputs": [
    {
     "data": {
      "text/plain": [
       "condition\n",
       "Clear                             334\n",
       "Sunny                             293\n",
       "Light rain shower                 144\n",
       "Partly cloudy                     141\n",
       "Patchy rain possible               57\n",
       "Overcast                           51\n",
       "Cloudy                             33\n",
       "Mist                               33\n",
       "Thundery outbreaks possible        15\n",
       "Moderate or heavy rain shower      15\n",
       "Moderate rain                       9\n",
       "Light rain                          9\n",
       "Light drizzle                       9\n",
       "Fog                                 6\n",
       "Patchy light rain with thunder      3\n",
       "Name: count, dtype: int64"
      ]
     },
     "execution_count": 4,
     "metadata": {},
     "output_type": "execute_result"
    }
   ],
   "source": [
    "dataset['condition'].value_counts()"
   ]
  },
  {
   "cell_type": "markdown",
   "id": "0a0e9c75-9216-4458-b957-1d086930f550",
   "metadata": {
    "jp-MarkdownHeadingCollapsed": true
   },
   "source": [
    "# SMOTE Oversampling"
   ]
  },
  {
   "cell_type": "code",
   "execution_count": 5,
   "id": "0f8a4dbb-b83c-4b47-a1bd-f0e27ec0ca9b",
   "metadata": {},
   "outputs": [],
   "source": [
    "x = dataset.drop('condition' , axis = 1)\n",
    "y = dataset['condition']"
   ]
  },
  {
   "cell_type": "code",
   "execution_count": 6,
   "id": "64c10afa-3d52-46e8-b59b-98ac94180b16",
   "metadata": {},
   "outputs": [],
   "source": [
    "from imblearn.over_sampling import SMOTE\n",
    "sm = SMOTE(random_state=20 , k_neighbors = 2)\n",
    "x , y = sm.fit_resample(x , y)"
   ]
  },
  {
   "cell_type": "code",
   "execution_count": 7,
   "id": "834b87ad-f40b-40b7-91f6-420831f8d2a7",
   "metadata": {},
   "outputs": [
    {
     "data": {
      "text/plain": [
       "condition\n",
       "Clear                             334\n",
       "Sunny                             334\n",
       "Partly cloudy                     334\n",
       "Patchy rain possible              334\n",
       "Thundery outbreaks possible       334\n",
       "Patchy light rain with thunder    334\n",
       "Light rain shower                 334\n",
       "Moderate rain                     334\n",
       "Moderate or heavy rain shower     334\n",
       "Light rain                        334\n",
       "Light drizzle                     334\n",
       "Cloudy                            334\n",
       "Overcast                          334\n",
       "Mist                              334\n",
       "Fog                               334\n",
       "Name: count, dtype: int64"
      ]
     },
     "execution_count": 7,
     "metadata": {},
     "output_type": "execute_result"
    }
   ],
   "source": [
    "y.value_counts()"
   ]
  },
  {
   "cell_type": "markdown",
   "id": "87eaaabf-6114-46d4-bc55-ecb28fd398ff",
   "metadata": {
    "jp-MarkdownHeadingCollapsed": true
   },
   "source": [
    "# Encoding the condition parameter"
   ]
  },
  {
   "cell_type": "code",
   "execution_count": 8,
   "id": "4e45e3e9-e1f3-4d5a-b4a8-89d28a45fbbf",
   "metadata": {},
   "outputs": [
    {
     "data": {
      "text/html": [
       "<div>\n",
       "<style scoped>\n",
       "    .dataframe tbody tr th:only-of-type {\n",
       "        vertical-align: middle;\n",
       "    }\n",
       "\n",
       "    .dataframe tbody tr th {\n",
       "        vertical-align: top;\n",
       "    }\n",
       "\n",
       "    .dataframe thead th {\n",
       "        text-align: right;\n",
       "    }\n",
       "</style>\n",
       "<table border=\"1\" class=\"dataframe\">\n",
       "  <thead>\n",
       "    <tr style=\"text-align: right;\">\n",
       "      <th></th>\n",
       "      <th>temp_c</th>\n",
       "      <th>condition</th>\n",
       "      <th>wind_kph</th>\n",
       "      <th>pressure_mb</th>\n",
       "      <th>humidity</th>\n",
       "      <th>feelslike_c</th>\n",
       "      <th>heatindex_c</th>\n",
       "    </tr>\n",
       "  </thead>\n",
       "  <tbody>\n",
       "    <tr>\n",
       "      <th>0</th>\n",
       "      <td>24.5</td>\n",
       "      <td>0</td>\n",
       "      <td>4.7</td>\n",
       "      <td>1004.0</td>\n",
       "      <td>41.0</td>\n",
       "      <td>25.1</td>\n",
       "      <td>25.1</td>\n",
       "    </tr>\n",
       "    <tr>\n",
       "      <th>1</th>\n",
       "      <td>24.2</td>\n",
       "      <td>0</td>\n",
       "      <td>4.7</td>\n",
       "      <td>1004.0</td>\n",
       "      <td>41.0</td>\n",
       "      <td>24.9</td>\n",
       "      <td>24.9</td>\n",
       "    </tr>\n",
       "    <tr>\n",
       "      <th>2</th>\n",
       "      <td>23.8</td>\n",
       "      <td>0</td>\n",
       "      <td>4.7</td>\n",
       "      <td>1004.0</td>\n",
       "      <td>41.0</td>\n",
       "      <td>24.8</td>\n",
       "      <td>24.8</td>\n",
       "    </tr>\n",
       "    <tr>\n",
       "      <th>3</th>\n",
       "      <td>23.5</td>\n",
       "      <td>0</td>\n",
       "      <td>4.7</td>\n",
       "      <td>1004.0</td>\n",
       "      <td>42.0</td>\n",
       "      <td>24.6</td>\n",
       "      <td>24.6</td>\n",
       "    </tr>\n",
       "    <tr>\n",
       "      <th>4</th>\n",
       "      <td>23.2</td>\n",
       "      <td>0</td>\n",
       "      <td>4.3</td>\n",
       "      <td>1004.0</td>\n",
       "      <td>43.0</td>\n",
       "      <td>24.6</td>\n",
       "      <td>24.6</td>\n",
       "    </tr>\n",
       "  </tbody>\n",
       "</table>\n",
       "</div>"
      ],
      "text/plain": [
       "   temp_c  condition  wind_kph  pressure_mb  humidity  feelslike_c  \\\n",
       "0    24.5          0       4.7       1004.0      41.0         25.1   \n",
       "1    24.2          0       4.7       1004.0      41.0         24.9   \n",
       "2    23.8          0       4.7       1004.0      41.0         24.8   \n",
       "3    23.5          0       4.7       1004.0      42.0         24.6   \n",
       "4    23.2          0       4.3       1004.0      43.0         24.6   \n",
       "\n",
       "   heatindex_c  \n",
       "0         25.1  \n",
       "1         24.9  \n",
       "2         24.8  \n",
       "3         24.6  \n",
       "4         24.6  "
      ]
     },
     "execution_count": 8,
     "metadata": {},
     "output_type": "execute_result"
    }
   ],
   "source": [
    "from sklearn.preprocessing import LabelEncoder\n",
    "condition_encoder = LabelEncoder()\n",
    "dataset['condition'] = condition_encoder.fit_transform(dataset['condition'])\n",
    "dataset.head()"
   ]
  },
  {
   "cell_type": "code",
   "execution_count": 9,
   "id": "8b148b1e-b4a1-4d43-8685-1b32ba490bf1",
   "metadata": {},
   "outputs": [
    {
     "data": {
      "text/plain": [
       "array([ 0, 13, 10, 12, 14, 11,  5,  8,  7,  4,  3,  1,  9,  6,  2])"
      ]
     },
     "execution_count": 9,
     "metadata": {},
     "output_type": "execute_result"
    }
   ],
   "source": [
    "dataset['condition'].unique()"
   ]
  },
  {
   "cell_type": "code",
   "execution_count": 10,
   "id": "f72595b6-9299-459b-b4fc-c96c6648fb78",
   "metadata": {},
   "outputs": [
    {
     "data": {
      "text/plain": [
       "array(['Clear', 'Sunny', 'Partly cloudy', 'Patchy rain possible',\n",
       "       'Thundery outbreaks possible', 'Patchy light rain with thunder',\n",
       "       'Light rain shower', 'Moderate rain',\n",
       "       'Moderate or heavy rain shower', 'Light rain', 'Light drizzle',\n",
       "       'Cloudy', 'Overcast', 'Mist', 'Fog'], dtype=object)"
      ]
     },
     "execution_count": 10,
     "metadata": {},
     "output_type": "execute_result"
    }
   ],
   "source": [
    "condition_encoder.inverse_transform([ 0, 13, 10, 12, 14, 11,  5,  8,  7,  4,  3,  1,  9,  6,  2])"
   ]
  },
  {
   "cell_type": "markdown",
   "id": "d334f452-8728-49ec-80d6-826134011f87",
   "metadata": {
    "jp-MarkdownHeadingCollapsed": true
   },
   "source": [
    "# Pickling the encoder object"
   ]
  },
  {
   "cell_type": "code",
   "execution_count": 11,
   "id": "5c83ffc1-e850-486d-81fa-75337ef15e23",
   "metadata": {},
   "outputs": [],
   "source": [
    "import pickle as pkl\n",
    "#file1 = open('encoder_condition.pkl' , 'wb')\n",
    "#pkl.dump(condition_encoder , file1)"
   ]
  },
  {
   "cell_type": "markdown",
   "id": "93bba887-be29-45e4-ac94-031a0c04f41a",
   "metadata": {
    "jp-MarkdownHeadingCollapsed": true
   },
   "source": [
    "# Train Test Split"
   ]
  },
  {
   "cell_type": "code",
   "execution_count": 12,
   "id": "585fb079-7390-4f48-8415-47a021eb0108",
   "metadata": {},
   "outputs": [],
   "source": [
    "from sklearn.model_selection import train_test_split\n",
    "X_train, X_test, y_train, y_test = train_test_split(x , y , test_size=.3 , random_state=42)"
   ]
  },
  {
   "cell_type": "markdown",
   "id": "c48249df-cb95-4bca-ae50-6bcd5aa24492",
   "metadata": {
    "jp-MarkdownHeadingCollapsed": true
   },
   "source": [
    "# Classifier Model Evaluation"
   ]
  },
  {
   "cell_type": "code",
   "execution_count": 13,
   "id": "4d82d59a-64ea-4dd9-827d-29a95a1185cd",
   "metadata": {},
   "outputs": [],
   "source": [
    "from sklearn.tree import DecisionTreeClassifier\n",
    "from sklearn.linear_model import LogisticRegression\n",
    "from sklearn.neighbors import KNeighborsClassifier\n",
    "from sklearn.naive_bayes import GaussianNB\n",
    "from sklearn.svm import SVC\n",
    "from sklearn.metrics import accuracy_score,classification_report\n",
    "models = [ DecisionTreeClassifier() , LogisticRegression() , KNeighborsClassifier() , GaussianNB() , SVC() ]"
   ]
  },
  {
   "cell_type": "code",
   "execution_count": 14,
   "id": "523b4fad-bfc2-4269-8365-5d5a6aa80a74",
   "metadata": {},
   "outputs": [],
   "source": [
    "def model_evaluation(models):\n",
    "    scores = []\n",
    "    for model in models :\n",
    "        print(\"\\n=============================================================================\\n\")\n",
    "        print(f\"model : {model}\")\n",
    "        model.fit(X_train , y_train)\n",
    "        y_pred = model.predict(X_test)\n",
    "        report = classification_report(y_test , y_pred)\n",
    "        score = accuracy_score(y_test , y_pred)\n",
    "        scores.append(score)\n",
    "        print(f\"accuracy_score : {score}\")\n",
    "        print(f\"classification_report : \\n{report}\")\n",
    "    print(\"\\n=============================================================================\")\n",
    "    return scores"
   ]
  },
  {
   "cell_type": "code",
   "execution_count": 15,
   "id": "a5c04be2-2c71-4aba-a90b-0d36d0ce15d5",
   "metadata": {},
   "outputs": [
    {
     "name": "stdout",
     "output_type": "stream",
     "text": [
      "\n",
      "=============================================================================\n",
      "\n",
      "model : DecisionTreeClassifier()\n",
      "accuracy_score : 0.9248170326014638\n",
      "classification_report : \n",
      "                                precision    recall  f1-score   support\n",
      "\n",
      "                         Clear       0.84      0.85      0.84       104\n",
      "                        Cloudy       0.95      0.91      0.93       101\n",
      "                           Fog       0.95      0.96      0.96       107\n",
      "                 Light drizzle       0.98      1.00      0.99        96\n",
      "                    Light rain       1.00      1.00      1.00       103\n",
      "             Light rain shower       0.89      0.84      0.87       107\n",
      "                          Mist       0.97      0.98      0.97        90\n",
      " Moderate or heavy rain shower       0.95      0.93      0.94        89\n",
      "                 Moderate rain       1.00      1.00      1.00        92\n",
      "                      Overcast       0.82      0.96      0.89       109\n",
      "                 Partly cloudy       0.81      0.82      0.82        96\n",
      "Patchy light rain with thunder       0.99      1.00      0.99        88\n",
      "          Patchy rain possible       0.95      0.86      0.90       101\n",
      "                         Sunny       0.90      0.80      0.85       115\n",
      "   Thundery outbreaks possible       0.92      0.99      0.95       105\n",
      "\n",
      "                      accuracy                           0.92      1503\n",
      "                     macro avg       0.93      0.93      0.93      1503\n",
      "                  weighted avg       0.93      0.92      0.92      1503\n",
      "\n",
      "\n",
      "=============================================================================\n",
      "\n",
      "model : LogisticRegression()\n",
      "accuracy_score : 0.5149700598802395\n",
      "classification_report : \n",
      "                                precision    recall  f1-score   support\n",
      "\n",
      "                         Clear       0.76      0.73      0.75       104\n",
      "                        Cloudy       0.53      0.50      0.52       101\n",
      "                           Fog       0.84      0.87      0.85       107\n",
      "                 Light drizzle       0.57      0.65      0.61        96\n",
      "                    Light rain       0.63      0.66      0.64       103\n",
      "             Light rain shower       0.18      0.06      0.09       107\n",
      "                          Mist       0.42      0.77      0.55        90\n",
      " Moderate or heavy rain shower       0.19      0.21      0.20        89\n",
      "                 Moderate rain       0.34      0.35      0.35        92\n",
      "                      Overcast       0.56      0.34      0.42       109\n",
      "                 Partly cloudy       0.39      0.36      0.38        96\n",
      "Patchy light rain with thunder       0.55      1.00      0.71        88\n",
      "          Patchy rain possible       0.25      0.32      0.28       101\n",
      "                         Sunny       0.72      0.63      0.68       115\n",
      "   Thundery outbreaks possible       0.77      0.31      0.45       105\n",
      "\n",
      "                      accuracy                           0.51      1503\n",
      "                     macro avg       0.51      0.52      0.50      1503\n",
      "                  weighted avg       0.52      0.51      0.50      1503\n",
      "\n",
      "\n",
      "=============================================================================\n",
      "\n",
      "model : KNeighborsClassifier()\n",
      "accuracy_score : 0.9201596806387226\n",
      "classification_report : \n",
      "                                precision    recall  f1-score   support\n",
      "\n",
      "                         Clear       0.76      0.77      0.77       104\n",
      "                        Cloudy       0.88      0.99      0.93       101\n",
      "                           Fog       1.00      1.00      1.00       107\n",
      "                 Light drizzle       1.00      0.99      0.99        96\n",
      "                    Light rain       0.96      1.00      0.98       103\n",
      "             Light rain shower       0.93      0.73      0.82       107\n",
      "                          Mist       0.94      1.00      0.97        90\n",
      " Moderate or heavy rain shower       0.97      1.00      0.98        89\n",
      "                 Moderate rain       0.99      1.00      0.99        92\n",
      "                      Overcast       0.91      0.95      0.93       109\n",
      "                 Partly cloudy       0.76      0.83      0.80        96\n",
      "Patchy light rain with thunder       0.96      1.00      0.98        88\n",
      "          Patchy rain possible       0.89      0.94      0.91       101\n",
      "                         Sunny       0.92      0.70      0.80       115\n",
      "   Thundery outbreaks possible       0.96      0.96      0.96       105\n",
      "\n",
      "                      accuracy                           0.92      1503\n",
      "                     macro avg       0.92      0.92      0.92      1503\n",
      "                  weighted avg       0.92      0.92      0.92      1503\n",
      "\n",
      "\n",
      "=============================================================================\n",
      "\n",
      "model : GaussianNB()\n",
      "accuracy_score : 0.520292747837658\n",
      "classification_report : \n",
      "                                precision    recall  f1-score   support\n",
      "\n",
      "                         Clear       0.72      0.68      0.70       104\n",
      "                        Cloudy       0.58      0.15      0.24       101\n",
      "                           Fog       0.81      0.91      0.85       107\n",
      "                 Light drizzle       0.40      0.44      0.42        96\n",
      "                    Light rain       0.70      0.71      0.71       103\n",
      "             Light rain shower       0.16      0.05      0.07       107\n",
      "                          Mist       0.37      0.96      0.53        90\n",
      " Moderate or heavy rain shower       0.23      0.44      0.31        89\n",
      "                 Moderate rain       0.00      0.00      0.00        92\n",
      "                      Overcast       0.40      0.42      0.41       109\n",
      "                 Partly cloudy       0.38      0.17      0.23        96\n",
      "Patchy light rain with thunder       0.89      0.97      0.93        88\n",
      "          Patchy rain possible       0.37      0.40      0.38       101\n",
      "                         Sunny       0.74      0.70      0.72       115\n",
      "   Thundery outbreaks possible       0.80      0.82      0.81       105\n",
      "\n",
      "                      accuracy                           0.52      1503\n",
      "                     macro avg       0.50      0.52      0.49      1503\n",
      "                  weighted avg       0.51      0.52      0.49      1503\n",
      "\n",
      "\n",
      "=============================================================================\n",
      "\n",
      "model : SVC()\n",
      "accuracy_score : 0.08915502328675981\n",
      "classification_report : \n",
      "                                precision    recall  f1-score   support\n",
      "\n",
      "                         Clear       0.00      0.00      0.00       104\n",
      "                        Cloudy       0.00      0.00      0.00       101\n",
      "                           Fog       0.00      0.00      0.00       107\n",
      "                 Light drizzle       0.00      0.00      0.00        96\n",
      "                    Light rain       0.00      0.00      0.00       103\n",
      "             Light rain shower       0.00      0.00      0.00       107\n",
      "                          Mist       0.01      0.02      0.01        90\n",
      " Moderate or heavy rain shower       0.13      0.49      0.21        89\n",
      "                 Moderate rain       0.00      0.00      0.00        92\n",
      "                      Overcast       0.00      0.00      0.00       109\n",
      "                 Partly cloudy       0.00      0.00      0.00        96\n",
      "Patchy light rain with thunder       0.10      1.00      0.18        88\n",
      "          Patchy rain possible       0.00      0.00      0.00       101\n",
      "                         Sunny       0.00      0.00      0.00       115\n",
      "   Thundery outbreaks possible       0.00      0.00      0.00       105\n",
      "\n",
      "                      accuracy                           0.09      1503\n",
      "                     macro avg       0.02      0.10      0.03      1503\n",
      "                  weighted avg       0.01      0.09      0.02      1503\n",
      "\n",
      "\n",
      "=============================================================================\n"
     ]
    }
   ],
   "source": [
    "import warnings\n",
    "warnings.filterwarnings(\"ignore\")\n",
    "score = model_evaluation(models)"
   ]
  },
  {
   "cell_type": "code",
   "execution_count": 16,
   "id": "e933a488-5cf8-495f-b0d4-5cb0c7357b8c",
   "metadata": {},
   "outputs": [
    {
     "data": {
      "text/html": [
       "<div>\n",
       "<style scoped>\n",
       "    .dataframe tbody tr th:only-of-type {\n",
       "        vertical-align: middle;\n",
       "    }\n",
       "\n",
       "    .dataframe tbody tr th {\n",
       "        vertical-align: top;\n",
       "    }\n",
       "\n",
       "    .dataframe thead th {\n",
       "        text-align: right;\n",
       "    }\n",
       "</style>\n",
       "<table border=\"1\" class=\"dataframe\">\n",
       "  <thead>\n",
       "    <tr style=\"text-align: right;\">\n",
       "      <th></th>\n",
       "      <th>MODEL</th>\n",
       "      <th>SCORE</th>\n",
       "    </tr>\n",
       "  </thead>\n",
       "  <tbody>\n",
       "    <tr>\n",
       "      <th>0</th>\n",
       "      <td>DecisionTreeClassifier()</td>\n",
       "      <td>0.924817</td>\n",
       "    </tr>\n",
       "    <tr>\n",
       "      <th>1</th>\n",
       "      <td>LogisticRegression()</td>\n",
       "      <td>0.514970</td>\n",
       "    </tr>\n",
       "    <tr>\n",
       "      <th>2</th>\n",
       "      <td>KNeighborsClassifier()</td>\n",
       "      <td>0.920160</td>\n",
       "    </tr>\n",
       "    <tr>\n",
       "      <th>3</th>\n",
       "      <td>GaussianNB()</td>\n",
       "      <td>0.520293</td>\n",
       "    </tr>\n",
       "    <tr>\n",
       "      <th>4</th>\n",
       "      <td>SVC()</td>\n",
       "      <td>0.089155</td>\n",
       "    </tr>\n",
       "  </tbody>\n",
       "</table>\n",
       "</div>"
      ],
      "text/plain": [
       "                      MODEL     SCORE\n",
       "0  DecisionTreeClassifier()  0.924817\n",
       "1      LogisticRegression()  0.514970\n",
       "2    KNeighborsClassifier()  0.920160\n",
       "3              GaussianNB()  0.520293\n",
       "4                     SVC()  0.089155"
      ]
     },
     "execution_count": 16,
     "metadata": {},
     "output_type": "execute_result"
    }
   ],
   "source": [
    "result_dict = { \"MODEL\" : models , \"SCORE\" : score}\n",
    "result = pd.DataFrame(result_dict)\n",
    "result"
   ]
  },
  {
   "cell_type": "markdown",
   "id": "1299decf-570c-4856-9d69-62d50d521297",
   "metadata": {
    "jp-MarkdownHeadingCollapsed": true
   },
   "source": [
    "# GridSearchCV"
   ]
  },
  {
   "cell_type": "code",
   "execution_count": 17,
   "id": "f9f0f2c6-a24e-447b-afaf-5b7a1bae8628",
   "metadata": {},
   "outputs": [],
   "source": [
    "from sklearn.model_selection import GridSearchCV\n",
    "def model_evaluation(models,params):\n",
    "    scores = []\n",
    "    best_params = []\n",
    "    best_score = []\n",
    "    for i in range(len(models)) :\n",
    "        print(\"\\n=============================================================================\\n\")\n",
    "        print(f\"model : {models[i]}\")\n",
    "        Grid = GridSearchCV(estimator=models[i] , param_grid=params[i] , scoring='accuracy')\n",
    "        Grid.fit(X_train , y_train)\n",
    "        y_pred = Grid.predict(X_test)\n",
    "        report = classification_report(y_test , y_pred)\n",
    "        accuracy = accuracy_score(y_test , y_pred)\n",
    "        scores.append(accuracy)\n",
    "        best_params.append(Grid.best_params_)\n",
    "        best_score.append(Grid.best_score_)\n",
    "        print(f\"best_params_ : {Grid.best_params_}\")\n",
    "        print(f\"best_score_ : {Grid.best_score_}\")\n",
    "        print(f\"accuracy_score : {accuracy}\")\n",
    "        print(f\"classification_report : \\n{report}\")\n",
    "    print(\"\\n=============================================================================\")\n",
    "    return scores,best_params,best_score"
   ]
  },
  {
   "cell_type": "code",
   "execution_count": 18,
   "id": "83926f27-2eb8-4c08-9c29-642b646e8e14",
   "metadata": {},
   "outputs": [],
   "source": [
    "from sklearn.tree import DecisionTreeClassifier\n",
    "from sklearn.linear_model import LogisticRegression\n",
    "from sklearn.neighbors import KNeighborsClassifier\n",
    "from sklearn.naive_bayes import GaussianNB\n",
    "from sklearn.svm import SVC\n",
    "from sklearn.metrics import accuracy_score,classification_report\n",
    "models = [ DecisionTreeClassifier() , LogisticRegression() , KNeighborsClassifier() ]\n",
    "params=[ { \"criterion\" : ['gini', 'entropy', 'log_loss'],\n",
    "          'splitter' : ['best', 'random'],\n",
    "          'max_depth' : [ 2 , 3 , 5 , 10 ]} , \n",
    "        \n",
    "        { 'penalty' : ['l1', 'l2', 'elasticnet'],\n",
    "         'dual' : [True , False ] , \n",
    "         'solver' : ['lbfgs', 'liblinear', 'newton-cg', 'newton-cholesky', 'sag', 'saga']} ,\n",
    "        \n",
    "        { 'n_neighbors' : [5,7,10,15],\n",
    "         'weights' :['uniform', 'distance'],\n",
    "         'algorithm' : ['auto', 'ball_tree', 'kd_tree', 'brute']}]"
   ]
  },
  {
   "cell_type": "code",
   "execution_count": 19,
   "id": "b4ca729c-e5ec-40d1-901c-efa0d047ce19",
   "metadata": {},
   "outputs": [
    {
     "name": "stdout",
     "output_type": "stream",
     "text": [
      "\n",
      "=============================================================================\n",
      "\n",
      "model : DecisionTreeClassifier()\n",
      "best_params_ : {'criterion': 'log_loss', 'max_depth': 10, 'splitter': 'best'}\n",
      "best_score_ : 0.8773880211826004\n",
      "accuracy_score : 0.9001996007984032\n",
      "classification_report : \n",
      "                                precision    recall  f1-score   support\n",
      "\n",
      "                         Clear       0.85      0.78      0.81       104\n",
      "                        Cloudy       0.82      0.79      0.80       101\n",
      "                           Fog       0.99      0.99      0.99       107\n",
      "                 Light drizzle       0.99      1.00      0.99        96\n",
      "                    Light rain       1.00      1.00      1.00       103\n",
      "             Light rain shower       0.72      0.78      0.75       107\n",
      "                          Mist       0.99      1.00      0.99        90\n",
      " Moderate or heavy rain shower       0.94      0.96      0.95        89\n",
      "                 Moderate rain       1.00      0.98      0.99        92\n",
      "                      Overcast       0.92      0.87      0.90       109\n",
      "                 Partly cloudy       0.71      0.75      0.73        96\n",
      "Patchy light rain with thunder       0.99      1.00      0.99        88\n",
      "          Patchy rain possible       0.76      0.83      0.79       101\n",
      "                         Sunny       0.90      0.83      0.86       115\n",
      "   Thundery outbreaks possible       0.97      1.00      0.99       105\n",
      "\n",
      "                      accuracy                           0.90      1503\n",
      "                     macro avg       0.90      0.90      0.90      1503\n",
      "                  weighted avg       0.90      0.90      0.90      1503\n",
      "\n",
      "\n",
      "=============================================================================\n",
      "\n",
      "model : LogisticRegression()\n",
      "best_params_ : {'dual': False, 'penalty': 'l2', 'solver': 'newton-cholesky'}\n",
      "best_score_ : 0.5799866694303214\n",
      "accuracy_score : 0.5968063872255489\n",
      "classification_report : \n",
      "                                precision    recall  f1-score   support\n",
      "\n",
      "                         Clear       0.75      0.70      0.73       104\n",
      "                        Cloudy       0.55      0.55      0.55       101\n",
      "                           Fog       0.83      0.98      0.90       107\n",
      "                 Light drizzle       0.76      0.41      0.53        96\n",
      "                    Light rain       0.74      0.88      0.81       103\n",
      "             Light rain shower       0.50      0.12      0.20       107\n",
      "                          Mist       0.36      0.83      0.50        90\n",
      " Moderate or heavy rain shower       0.42      0.45      0.43        89\n",
      "                 Moderate rain       0.53      0.71      0.61        92\n",
      "                      Overcast       0.61      0.43      0.51       109\n",
      "                 Partly cloudy       0.50      0.33      0.40        96\n",
      "Patchy light rain with thunder       0.68      1.00      0.81        88\n",
      "          Patchy rain possible       0.42      0.22      0.29       101\n",
      "                         Sunny       0.64      0.77      0.70       115\n",
      "   Thundery outbreaks possible       0.73      0.59      0.65       105\n",
      "\n",
      "                      accuracy                           0.60      1503\n",
      "                     macro avg       0.60      0.60      0.57      1503\n",
      "                  weighted avg       0.61      0.60      0.57      1503\n",
      "\n",
      "\n",
      "=============================================================================\n",
      "\n",
      "model : KNeighborsClassifier()\n",
      "best_params_ : {'algorithm': 'auto', 'n_neighbors': 5, 'weights': 'distance'}\n",
      "best_score_ : 0.9321323628028335\n",
      "accuracy_score : 0.9414504324683965\n",
      "classification_report : \n",
      "                                precision    recall  f1-score   support\n",
      "\n",
      "                         Clear       0.78      0.77      0.77       104\n",
      "                        Cloudy       0.94      1.00      0.97       101\n",
      "                           Fog       1.00      1.00      1.00       107\n",
      "                 Light drizzle       1.00      0.99      0.99        96\n",
      "                    Light rain       0.96      1.00      0.98       103\n",
      "             Light rain shower       0.96      0.85      0.90       107\n",
      "                          Mist       0.98      1.00      0.99        90\n",
      " Moderate or heavy rain shower       0.99      1.00      0.99        89\n",
      "                 Moderate rain       0.99      1.00      0.99        92\n",
      "                      Overcast       0.93      0.97      0.95       109\n",
      "                 Partly cloudy       0.84      0.88      0.86        96\n",
      "Patchy light rain with thunder       0.98      1.00      0.99        88\n",
      "          Patchy rain possible       0.91      0.99      0.95       101\n",
      "                         Sunny       0.91      0.75      0.82       115\n",
      "   Thundery outbreaks possible       0.98      0.98      0.98       105\n",
      "\n",
      "                      accuracy                           0.94      1503\n",
      "                     macro avg       0.94      0.95      0.94      1503\n",
      "                  weighted avg       0.94      0.94      0.94      1503\n",
      "\n",
      "\n",
      "=============================================================================\n"
     ]
    }
   ],
   "source": [
    "score , best_param , best_score = model_evaluation(models , params)"
   ]
  },
  {
   "cell_type": "code",
   "execution_count": 20,
   "id": "9ae566e6-fd0e-4a88-bc42-95c5c6f792fd",
   "metadata": {},
   "outputs": [
    {
     "data": {
      "text/html": [
       "<div>\n",
       "<style scoped>\n",
       "    .dataframe tbody tr th:only-of-type {\n",
       "        vertical-align: middle;\n",
       "    }\n",
       "\n",
       "    .dataframe tbody tr th {\n",
       "        vertical-align: top;\n",
       "    }\n",
       "\n",
       "    .dataframe thead th {\n",
       "        text-align: right;\n",
       "    }\n",
       "</style>\n",
       "<table border=\"1\" class=\"dataframe\">\n",
       "  <thead>\n",
       "    <tr style=\"text-align: right;\">\n",
       "      <th></th>\n",
       "      <th>MODEL</th>\n",
       "      <th>SCORE</th>\n",
       "      <th>BEST_PARAMS_</th>\n",
       "      <th>BEST_SCORE_</th>\n",
       "    </tr>\n",
       "  </thead>\n",
       "  <tbody>\n",
       "    <tr>\n",
       "      <th>0</th>\n",
       "      <td>DecisionTreeClassifier()</td>\n",
       "      <td>0.900200</td>\n",
       "      <td>{'criterion': 'log_loss', 'max_depth': 10, 'sp...</td>\n",
       "      <td>0.877388</td>\n",
       "    </tr>\n",
       "    <tr>\n",
       "      <th>1</th>\n",
       "      <td>LogisticRegression()</td>\n",
       "      <td>0.596806</td>\n",
       "      <td>{'dual': False, 'penalty': 'l2', 'solver': 'ne...</td>\n",
       "      <td>0.579987</td>\n",
       "    </tr>\n",
       "    <tr>\n",
       "      <th>2</th>\n",
       "      <td>KNeighborsClassifier()</td>\n",
       "      <td>0.941450</td>\n",
       "      <td>{'algorithm': 'auto', 'n_neighbors': 5, 'weigh...</td>\n",
       "      <td>0.932132</td>\n",
       "    </tr>\n",
       "  </tbody>\n",
       "</table>\n",
       "</div>"
      ],
      "text/plain": [
       "                      MODEL     SCORE  \\\n",
       "0  DecisionTreeClassifier()  0.900200   \n",
       "1      LogisticRegression()  0.596806   \n",
       "2    KNeighborsClassifier()  0.941450   \n",
       "\n",
       "                                        BEST_PARAMS_  BEST_SCORE_  \n",
       "0  {'criterion': 'log_loss', 'max_depth': 10, 'sp...     0.877388  \n",
       "1  {'dual': False, 'penalty': 'l2', 'solver': 'ne...     0.579987  \n",
       "2  {'algorithm': 'auto', 'n_neighbors': 5, 'weigh...     0.932132  "
      ]
     },
     "execution_count": 20,
     "metadata": {},
     "output_type": "execute_result"
    }
   ],
   "source": [
    "result_dict_ = { \"MODEL\" : models , \"SCORE\" : score , \"BEST_PARAMS_\" : best_param , \"BEST_SCORE_\" : best_score}\n",
    "result_ = pd.DataFrame(result_dict_)\n",
    "result_"
   ]
  },
  {
   "cell_type": "code",
   "execution_count": 21,
   "id": "f41e795a-0a11-4717-9144-b51fde6cb973",
   "metadata": {},
   "outputs": [
    {
     "data": {
      "text/html": [
       "<div>\n",
       "<style scoped>\n",
       "    .dataframe tbody tr th:only-of-type {\n",
       "        vertical-align: middle;\n",
       "    }\n",
       "\n",
       "    .dataframe tbody tr th {\n",
       "        vertical-align: top;\n",
       "    }\n",
       "\n",
       "    .dataframe thead th {\n",
       "        text-align: right;\n",
       "    }\n",
       "</style>\n",
       "<table border=\"1\" class=\"dataframe\">\n",
       "  <thead>\n",
       "    <tr style=\"text-align: right;\">\n",
       "      <th></th>\n",
       "      <th>MODEL</th>\n",
       "      <th>SCORE</th>\n",
       "      <th>BEST_PARAMS_</th>\n",
       "      <th>BEST_SCORE_</th>\n",
       "    </tr>\n",
       "  </thead>\n",
       "  <tbody>\n",
       "    <tr>\n",
       "      <th>0</th>\n",
       "      <td>DecisionTreeClassifier()</td>\n",
       "      <td>0.924817</td>\n",
       "      <td>NaN</td>\n",
       "      <td>NaN</td>\n",
       "    </tr>\n",
       "    <tr>\n",
       "      <th>1</th>\n",
       "      <td>LogisticRegression()</td>\n",
       "      <td>0.514970</td>\n",
       "      <td>NaN</td>\n",
       "      <td>NaN</td>\n",
       "    </tr>\n",
       "    <tr>\n",
       "      <th>2</th>\n",
       "      <td>KNeighborsClassifier()</td>\n",
       "      <td>0.920160</td>\n",
       "      <td>NaN</td>\n",
       "      <td>NaN</td>\n",
       "    </tr>\n",
       "    <tr>\n",
       "      <th>3</th>\n",
       "      <td>GaussianNB()</td>\n",
       "      <td>0.520293</td>\n",
       "      <td>NaN</td>\n",
       "      <td>NaN</td>\n",
       "    </tr>\n",
       "    <tr>\n",
       "      <th>4</th>\n",
       "      <td>SVC()</td>\n",
       "      <td>0.089155</td>\n",
       "      <td>NaN</td>\n",
       "      <td>NaN</td>\n",
       "    </tr>\n",
       "    <tr>\n",
       "      <th>5</th>\n",
       "      <td>DecisionTreeClassifier()</td>\n",
       "      <td>0.900200</td>\n",
       "      <td>{'criterion': 'log_loss', 'max_depth': 10, 'sp...</td>\n",
       "      <td>0.877388</td>\n",
       "    </tr>\n",
       "    <tr>\n",
       "      <th>6</th>\n",
       "      <td>LogisticRegression()</td>\n",
       "      <td>0.596806</td>\n",
       "      <td>{'dual': False, 'penalty': 'l2', 'solver': 'ne...</td>\n",
       "      <td>0.579987</td>\n",
       "    </tr>\n",
       "    <tr>\n",
       "      <th>7</th>\n",
       "      <td>KNeighborsClassifier()</td>\n",
       "      <td>0.941450</td>\n",
       "      <td>{'algorithm': 'auto', 'n_neighbors': 5, 'weigh...</td>\n",
       "      <td>0.932132</td>\n",
       "    </tr>\n",
       "  </tbody>\n",
       "</table>\n",
       "</div>"
      ],
      "text/plain": [
       "                      MODEL     SCORE  \\\n",
       "0  DecisionTreeClassifier()  0.924817   \n",
       "1      LogisticRegression()  0.514970   \n",
       "2    KNeighborsClassifier()  0.920160   \n",
       "3              GaussianNB()  0.520293   \n",
       "4                     SVC()  0.089155   \n",
       "5  DecisionTreeClassifier()  0.900200   \n",
       "6      LogisticRegression()  0.596806   \n",
       "7    KNeighborsClassifier()  0.941450   \n",
       "\n",
       "                                        BEST_PARAMS_  BEST_SCORE_  \n",
       "0                                                NaN          NaN  \n",
       "1                                                NaN          NaN  \n",
       "2                                                NaN          NaN  \n",
       "3                                                NaN          NaN  \n",
       "4                                                NaN          NaN  \n",
       "5  {'criterion': 'log_loss', 'max_depth': 10, 'sp...     0.877388  \n",
       "6  {'dual': False, 'penalty': 'l2', 'solver': 'ne...     0.579987  \n",
       "7  {'algorithm': 'auto', 'n_neighbors': 5, 'weigh...     0.932132  "
      ]
     },
     "execution_count": 21,
     "metadata": {},
     "output_type": "execute_result"
    }
   ],
   "source": [
    "final_result = pd.concat([result , result_] , ignore_index=True)\n",
    "final_result"
   ]
  },
  {
   "cell_type": "code",
   "execution_count": 23,
   "id": "66d41191-6d7c-4840-af19-3fb40e2f4c08",
   "metadata": {},
   "outputs": [
    {
     "data": {
      "text/plain": [
       "{'algorithm': 'auto', 'n_neighbors': 5, 'weights': 'distance'}"
      ]
     },
     "execution_count": 23,
     "metadata": {},
     "output_type": "execute_result"
    }
   ],
   "source": [
    "final_result.iloc[7]['BEST_PARAMS_']"
   ]
  }
 ],
 "metadata": {
  "kernelspec": {
   "display_name": "Python 3 (ipykernel)",
   "language": "python",
   "name": "python3"
  },
  "language_info": {
   "codemirror_mode": {
    "name": "ipython",
    "version": 3
   },
   "file_extension": ".py",
   "mimetype": "text/x-python",
   "name": "python",
   "nbconvert_exporter": "python",
   "pygments_lexer": "ipython3",
   "version": "3.12.4"
  }
 },
 "nbformat": 4,
 "nbformat_minor": 5
}
