{
 "cells": [
  {
   "cell_type": "code",
   "execution_count": 1,
   "id": "1b1bf455-a6e3-4dd3-8c0f-e3c1c1a56881",
   "metadata": {},
   "outputs": [],
   "source": [
    "import pandas as pd\n",
    "dataset = pd.read_csv(r'dataset.csv')"
   ]
  },
  {
   "cell_type": "code",
   "execution_count": 2,
   "id": "cc194023-a94e-4610-be0f-1a7002c5e656",
   "metadata": {},
   "outputs": [],
   "source": [
    "X1 = dataset[['temp_c' , 'wind_kph']]\n",
    "y1 = dataset[['feelslike_c' , 'heatindex_c']]\n",
    "X2 = dataset[['wind_kph' , 'pressure_mb']]\n",
    "y2 = dataset['humidity']"
   ]
  },
  {
   "cell_type": "markdown",
   "id": "6d3d6995-cccc-4e01-a109-36803857ae21",
   "metadata": {},
   "source": [
    "# Train_Test_Split"
   ]
  },
  {
   "cell_type": "code",
   "execution_count": 3,
   "id": "b9ff7e21-70f9-46d6-b603-091fdb98fc84",
   "metadata": {},
   "outputs": [],
   "source": [
    "from sklearn.model_selection import train_test_split\n",
    "X_train1, X_test1, y_train1, y_test1 = train_test_split(X1 , y1 , test_size = 0.2 , random_state=42)\n",
    "X_train2, X_test2, y_train2, y_test2 = train_test_split(X2 , y2 , test_size = 0.2 , random_state=42)"
   ]
  },
  {
   "cell_type": "markdown",
   "id": "f10d14ba-af60-4611-a5d0-6ea22013ff0a",
   "metadata": {},
   "source": [
    "# Model Deployment"
   ]
  },
  {
   "cell_type": "code",
   "execution_count": 4,
   "id": "eeff3f1c-e072-427d-9ace-23fec1b7d030",
   "metadata": {},
   "outputs": [
    {
     "name": "stdout",
     "output_type": "stream",
     "text": [
      "For model1 : \n",
      "r2_score :  0.8761975081148797\n",
      "mean_absolute_error :  1.057102063913523\n",
      "mean_squared_error :  2.071987176717807\n",
      "\n",
      "\n",
      "For model2 : \n",
      "r2_score :  0.3938275382945917\n",
      "mean_absolute_error :  14.773376623376622\n",
      "mean_squared_error :  334.8007251082251\n"
     ]
    }
   ],
   "source": [
    "from sklearn.neighbors import KNeighborsRegressor\n",
    "from sklearn.metrics import r2_score , mean_absolute_error , mean_squared_error\n",
    "model1 = KNeighborsRegressor(algorithm= 'brute', n_neighbors= 20, weights= 'distance')\n",
    "model2 = KNeighborsRegressor(algorithm= 'ball_tree', n_neighbors= 20, weights= 'uniform')\n",
    "model1.fit(X_train1 , y_train1)\n",
    "model2.fit(X_train2 , y_train2)\n",
    "pred1 = model1.predict(X_test1)\n",
    "pred2 = model2.predict(X_test2)\n",
    "print('For model1 : ')\n",
    "print('r2_score : ', r2_score(y_test1 , pred1))\n",
    "print('mean_absolute_error : ', mean_absolute_error(y_test1 , pred1))\n",
    "print('mean_squared_error : ', mean_squared_error(y_test1 , pred1))\n",
    "print('\\n\\nFor model2 : ')\n",
    "print('r2_score : ', r2_score(y_test2 , pred2))\n",
    "print('mean_absolute_error : ', mean_absolute_error(y_test2 , pred2))\n",
    "print('mean_squared_error : ', mean_squared_error(y_test2 , pred2))"
   ]
  },
  {
   "cell_type": "markdown",
   "id": "8d1faa52-e963-4765-83a4-76a29761e7eb",
   "metadata": {},
   "source": [
    "# Pickling models"
   ]
  },
  {
   "cell_type": "code",
   "execution_count": 6,
   "id": "cf9a8e46-4917-4edc-986e-06c38d4cc33b",
   "metadata": {},
   "outputs": [],
   "source": [
    "import pickle as pkl\n",
    "#file1 = open('model1.pkl' , 'wb')\n",
    "#pkl.dump(model1 , file1)\n",
    "#file2 = open('model2.pkl' , 'wb')\n",
    "#pkl.dump(model2 , file2)"
   ]
  }
 ],
 "metadata": {
  "kernelspec": {
   "display_name": "Python 3 (ipykernel)",
   "language": "python",
   "name": "python3"
  },
  "language_info": {
   "codemirror_mode": {
    "name": "ipython",
    "version": 3
   },
   "file_extension": ".py",
   "mimetype": "text/x-python",
   "name": "python",
   "nbconvert_exporter": "python",
   "pygments_lexer": "ipython3",
   "version": "3.12.4"
  }
 },
 "nbformat": 4,
 "nbformat_minor": 5
}
