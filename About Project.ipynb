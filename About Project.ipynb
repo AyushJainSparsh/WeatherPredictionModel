{
 "cells": [
  {
   "cell_type": "markdown",
   "id": "5d51747a-6cb7-4899-91ad-fae4ee168a8a",
   "metadata": {
    "jp-MarkdownHeadingCollapsed": true
   },
   "source": [
    "# What's our aim in this project?"
   ]
  },
  {
   "cell_type": "markdown",
   "id": "48ae457b-b64f-45d6-9f41-8a917b7f40ca",
   "metadata": {},
   "source": [
    "The dataset we downloadeded and use is 'forecast_data.csv'.\n",
    "From this dataset we first remove out unnecessary parameters and we want to work on uttar pradesh data so by pre-processing method\n",
    "we clean our dataset and remove out uttar pradesh data and save it in 'Uttar Pradesh.csv' named file.\n",
    "Now we again clean and pre-processed the 'Uttar Pradesh.csv' dataset and we see the correlation between different parameter so that we can apply a correct machine learning algorithm to full fill our project requirement."
   ]
  },
  {
   "cell_type": "markdown",
   "id": "6af95338-96a5-4e3e-a797-844d2f6d4885",
   "metadata": {
    "jp-MarkdownHeadingCollapsed": true
   },
   "source": [
    "# What we have to do in it ?"
   ]
  },
  {
   "cell_type": "markdown",
   "id": "f593527a-737b-436b-b069-ecc24560e148",
   "metadata": {},
   "source": [
    "By heatmap in 'preprocessing up dataset' module we understand that we can't predict our output directly because one parameter is\n",
    "not directly correlated with another by heat map we can give the thesis that :-"
   ]
  },
  {
   "cell_type": "markdown",
   "id": "76dcd76c-be28-4bef-b7c9-0b8881334bc5",
   "metadata": {},
   "source": [
    "1. temp_c is correlated with feelslike_c and heatindex_c.\n",
    "2. wind_kph is correlated with humidity , feelslike_c , heatindex_c.\n",
    "3. pressure_mb is correlated with humidity."
   ]
  },
  {
   "cell_type": "markdown",
   "id": "8107342c-3ac1-4670-b493-d46c2209d605",
   "metadata": {},
   "source": [
    "so we can take temp_c , wind_kph and pressure_mb as input and provide humidity , feelslike_c , windchill_c , heatindex_c and weather as output."
   ]
  },
  {
   "cell_type": "markdown",
   "id": "7f7b597a-5931-40ec-b0d9-a30364400dd9",
   "metadata": {
    "jp-MarkdownHeadingCollapsed": true
   },
   "source": [
    "# Choosen Algorithm"
   ]
  },
  {
   "cell_type": "markdown",
   "id": "de785312-a56d-4824-80c8-75cb52c9f66d",
   "metadata": {},
   "source": [
    "For feelslike_c and heatindex_c we use temp_c and wind_kph variable and we use KNeighborsRegressor algo with best parameters \n",
    "-    {'algorithm': 'brute', 'n_neighbors': 20, 'weights': 'distance'}\n",
    "For humidity we use wind_kph and pressure_mb variable and we use KNeighborsRegressor algo with best parameters\n",
    "-    {'algorithm': 'ball_tree', 'n_neighbors': 20, 'weights': 'uniform'}"
   ]
  },
  {
   "cell_type": "markdown",
   "id": "112d8960-5796-4b5e-9154-cbf89a5dd31e",
   "metadata": {
    "jp-MarkdownHeadingCollapsed": true
   },
   "source": [
    "# Choosen Algorithm for Providing Weather Condition"
   ]
  },
  {
   "cell_type": "markdown",
   "id": "a85a7e91-6c16-4c5b-afbf-d29ffe914581",
   "metadata": {},
   "source": [
    "For condition we use all the parameters to provide weather condition.\n",
    "The KNeighborsClassifier is giving the best result among all the other algos.\n",
    "The accuracy score provided by decision tree is 0.941450 i.e. 94.145%.\n",
    "\n",
    "=============================================================================\n",
    "\n",
    "model : KNeighborsClassifier()\n",
    "best_params_ : {'algorithm': 'auto', 'n_neighbors': 5, 'weights': 'distance'}\n",
    "best_score_ : 0.9321323628028335\n",
    "accuracy_score : 0.9414504324683965\n",
    "classification_report : \n",
    "                                precision    recall  f1-score   support\n",
    "\n",
    "                         Clear       0.78      0.77      0.77       104\n",
    "                        Cloudy       0.94      1.00      0.97       101\n",
    "                           Fog       1.00      1.00      1.00       107\n",
    "                 Light drizzle       1.00      0.99      0.99        96\n",
    "                    Light rain       0.96      1.00      0.98       103\n",
    "             Light rain shower       0.96      0.85      0.90       107\n",
    "                          Mist       0.98      1.00      0.99        90\n",
    " Moderate or heavy rain shower       0.99      1.00      0.99        89\n",
    "                 Moderate rain       0.99      1.00      0.99        92\n",
    "                      Overcast       0.93      0.97      0.95       109\n",
    "                 Partly cloudy       0.84      0.88      0.86        96\n",
    "Patchy light rain with thunder       0.98      1.00      0.99        88\n",
    "          Patchy rain possible       0.91      0.99      0.95       101\n",
    "                         Sunny       0.91      0.75      0.82       115\n",
    "   Thundery outbreaks possible       0.98      0.98      0.98       105\n",
    "\n",
    "                      accuracy                           0.94      1503\n",
    "                     macro avg       0.94      0.95      0.94      1503\n",
    "                  weighted avg       0.94      0.94      0.94      1503\n",
    "\n",
    "=============================================================================\n",
    "\n",
    "With the best_params_ : {'algorithm': 'auto', 'n_neighbors': 5, 'weights': 'distance'}"
   ]
  },
  {
   "cell_type": "markdown",
   "id": "899e99eb-699d-4167-8a15-23e2be272309",
   "metadata": {
    "jp-MarkdownHeadingCollapsed": true
   },
   "source": [
    "# Precaution :"
   ]
  },
  {
   "cell_type": "markdown",
   "id": "6851fc01-8065-4616-bab4-61a57a12fb84",
   "metadata": {},
   "source": [
    "- During model1.pkl file you have to give input in the form of 'temp_c' , 'wind_kph' and you get output in the form of 'feelslike_c' , 'heatindex_c' .\n",
    "- During model2.pkl file you have to give input in the form of 'wind_kph' , 'pressure_mb' and you get output as 'humidity' ."
   ]
  }
 ],
 "metadata": {
  "kernelspec": {
   "display_name": "Python 3 (ipykernel)",
   "language": "python",
   "name": "python3"
  },
  "language_info": {
   "codemirror_mode": {
    "name": "ipython",
    "version": 3
   },
   "file_extension": ".py",
   "mimetype": "text/x-python",
   "name": "python",
   "nbconvert_exporter": "python",
   "pygments_lexer": "ipython3",
   "version": "3.12.4"
  }
 },
 "nbformat": 4,
 "nbformat_minor": 5
}
