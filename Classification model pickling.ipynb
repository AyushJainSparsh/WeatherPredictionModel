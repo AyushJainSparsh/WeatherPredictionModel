{
 "cells": [
  {
   "cell_type": "code",
   "execution_count": 1,
   "id": "fcc8a171-b725-4548-a79b-27676e4f486b",
   "metadata": {},
   "outputs": [],
   "source": [
    "import pandas as pd\n",
    "dataset = pd.read_csv(r'dataset.csv')\n",
    "from sklearn.preprocessing import LabelEncoder\n",
    "condition_encoder = LabelEncoder()\n",
    "dataset['condition'] = condition_encoder.fit_transform(dataset['condition'])"
   ]
  },
  {
   "cell_type": "code",
   "execution_count": 2,
   "id": "a0d8c0ab-6ade-4069-b632-81076d042664",
   "metadata": {},
   "outputs": [],
   "source": [
    "x = dataset.drop('condition' , axis = 1)\n",
    "y = dataset['condition']\n",
    "from imblearn.over_sampling import SMOTE\n",
    "sm = SMOTE(random_state=20 , k_neighbors = 2)\n",
    "x , y = sm.fit_resample(x , y)\n",
    "from sklearn.model_selection import train_test_split\n",
    "X_train, X_test, y_train, y_test = train_test_split(x , y , test_size=.3 , random_state=42)"
   ]
  },
  {
   "cell_type": "code",
   "execution_count": 3,
   "id": "0b115843-8a2b-4a6c-9b80-dd5e1de7ceb2",
   "metadata": {},
   "outputs": [
    {
     "name": "stdout",
     "output_type": "stream",
     "text": [
      "accuracy_score : 0.9414504324683965\n",
      "classification_report : \n",
      "              precision    recall  f1-score   support\n",
      "\n",
      "           0       0.78      0.77      0.77       104\n",
      "           1       0.94      1.00      0.97       101\n",
      "           2       1.00      1.00      1.00       107\n",
      "           3       1.00      0.99      0.99        96\n",
      "           4       0.96      1.00      0.98       103\n",
      "           5       0.96      0.85      0.90       107\n",
      "           6       0.98      1.00      0.99        90\n",
      "           7       0.99      1.00      0.99        89\n",
      "           8       0.99      1.00      0.99        92\n",
      "           9       0.93      0.97      0.95       109\n",
      "          10       0.84      0.88      0.86        96\n",
      "          11       0.98      1.00      0.99        88\n",
      "          12       0.91      0.99      0.95       101\n",
      "          13       0.91      0.75      0.82       115\n",
      "          14       0.98      0.98      0.98       105\n",
      "\n",
      "    accuracy                           0.94      1503\n",
      "   macro avg       0.94      0.95      0.94      1503\n",
      "weighted avg       0.94      0.94      0.94      1503\n",
      "\n"
     ]
    }
   ],
   "source": [
    "from sklearn.neighbors import KNeighborsClassifier\n",
    "from sklearn.metrics import accuracy_score,classification_report\n",
    "import warnings\n",
    "warnings.filterwarnings(\"ignore\")\n",
    "model = KNeighborsClassifier(algorithm= 'auto', n_neighbors= 5, weights= 'distance')\n",
    "model.fit(X_train , y_train)\n",
    "y_pred = model.predict(X_test)\n",
    "report = classification_report(y_test , y_pred)\n",
    "score = accuracy_score(y_test , y_pred)\n",
    "print(f\"accuracy_score : {score}\")\n",
    "print(f\"classification_report : \\n{report}\")"
   ]
  },
  {
   "cell_type": "code",
   "execution_count": 6,
   "id": "c0c201d8-ed78-4eff-9d5d-1d07d737eb37",
   "metadata": {},
   "outputs": [],
   "source": [
    "import pickle as pkl\n",
    "#file1 = open('condition_model.pkl' , 'wb')\n",
    "#pkl.dump(model , file1)"
   ]
  }
 ],
 "metadata": {
  "kernelspec": {
   "display_name": "Python 3 (ipykernel)",
   "language": "python",
   "name": "python3"
  },
  "language_info": {
   "codemirror_mode": {
    "name": "ipython",
    "version": 3
   },
   "file_extension": ".py",
   "mimetype": "text/x-python",
   "name": "python",
   "nbconvert_exporter": "python",
   "pygments_lexer": "ipython3",
   "version": "3.12.4"
  }
 },
 "nbformat": 4,
 "nbformat_minor": 5
}
